{
 "cells": [
  {
   "cell_type": "markdown",
   "id": "ec4fb4d1",
   "metadata": {},
   "source": [
    "# 練習"
   ]
  },
  {
   "cell_type": "markdown",
   "id": "ffc26678",
   "metadata": {},
   "source": [
    "４を１００回足した結果を表示する。"
   ]
  },
  {
   "cell_type": "code",
   "execution_count": 1,
   "id": "8947f6bd",
   "metadata": {},
   "outputs": [
    {
     "name": "stdout",
     "output_type": "stream",
     "text": [
      "400\n"
     ]
    }
   ],
   "source": [
    "s = 0\n",
    "n = 100\n",
    "\n",
    "for _ in range(n):\n",
    "    s += 4 #sに4を足す\n",
    "    \n",
    "print(s)"
   ]
  },
  {
   "cell_type": "markdown",
   "id": "86411680",
   "metadata": {},
   "source": [
    "不快指数（DI：discomfort index）を計算する。\n",
    "DI = 0.81T+0.01H(0.99T-14.3)+46.3\n",
    "T（temperature)\n",
    "H(humidity)"
   ]
  },
  {
   "cell_type": "code",
   "execution_count": 2,
   "id": "00ecd418",
   "metadata": {},
   "outputs": [
    {
     "name": "stdout",
     "output_type": "stream",
     "text": [
      "気温を入力してください: 20\n",
      "湿度を入力してください: 55\n",
      "本日の不快指数は 65.525 です\n"
     ]
    }
   ],
   "source": [
    "T = float(input('気温を入力してください: '))\n",
    "H = float(input('湿度を入力してください: '))\n",
    "DI = 0.81*T + 0.01*H*(0.99*T - 14.3) + 46.3\n",
    "print('本日の不快指数は', DI, 'です')"
   ]
  },
  {
   "cell_type": "markdown",
   "id": "a142b23a",
   "metadata": {},
   "source": [
    "絶対値を表示するプログラム（ifを用いる）"
   ]
  },
  {
   "cell_type": "code",
   "execution_count": 3,
   "id": "3d4ded37",
   "metadata": {},
   "outputs": [
    {
     "name": "stdout",
     "output_type": "stream",
     "text": [
      "数値を入力してください: -18\n",
      "18\n"
     ]
    }
   ],
   "source": [
    "x = int(input('数値を入力してください: '))\n",
    "\n",
    "if x < 0:\n",
    "    x = -1 * x\n",
    "    \n",
    "print(x)"
   ]
  },
  {
   "cell_type": "markdown",
   "id": "2bc627f2",
   "metadata": {},
   "source": [
    "７２の法則を計算する。\n",
    "計算式：72÷金利（％）＝投資期間（年数）"
   ]
  },
  {
   "cell_type": "code",
   "execution_count": 4,
   "id": "24da7b92",
   "metadata": {},
   "outputs": [
    {
     "name": "stdout",
     "output_type": "stream",
     "text": [
      "年利を入力してください:3\n",
      "金利が 3.0 %のとき、約 24 年かかります。\n"
     ]
    }
   ],
   "source": [
    "x = float(input('年利を入力してください:'))\n",
    "rate = 1.0\n",
    "i = 1 #年数\n",
    "\n",
    "while rate <= 2.0:\n",
    "    rate *= (1 + x / 100)\n",
    "    i += 1\n",
    "print('金利が', x, '%のとき、約', i-1, '年かかります。')"
   ]
  },
  {
   "cell_type": "markdown",
   "id": "730060a9",
   "metadata": {},
   "source": [
    "Tuetle Graphics で三角形を連続して３つ描画する。"
   ]
  },
  {
   "cell_type": "code",
   "execution_count": 5,
   "id": "9aaa5c76",
   "metadata": {},
   "outputs": [],
   "source": [
    "import turtle\n",
    "\n",
    "n = 3\n",
    "\n",
    "def triangle():\n",
    "    for _ in range(3):\n",
    "        turtle.forward(50)\n",
    "        turtle.left(360/n)\n",
    "    \n",
    "for _ in range(3):\n",
    "    turtle.penup()\n",
    "    turtle.forward(50)\n",
    "    turtle.pendown()\n",
    "    triangle()"
   ]
  },
  {
   "cell_type": "markdown",
   "id": "93f04d30",
   "metadata": {},
   "source": [
    "Turtle Graphics で長方形を描画する。"
   ]
  },
  {
   "cell_type": "code",
   "execution_count": 6,
   "id": "7e95a4ed",
   "metadata": {
    "scrolled": true
   },
   "outputs": [
    {
     "name": "stdout",
     "output_type": "stream",
     "text": [
      "長辺を入力してください: 75\n",
      "短辺を入力してください: 24\n"
     ]
    }
   ],
   "source": [
    "import turtle\n",
    "\n",
    "length_long = float(input('長辺を入力してください: '))\n",
    "length_short = float(input('短辺を入力してください: '))\n",
    "\n",
    "def rectangle(length_long, length_short):\n",
    "    for _ in range(2):\n",
    "        turtle.forward(length_short)\n",
    "        turtle.left(90)\n",
    "        turtle.forward(length_long)\n",
    "        turtle.left(90)\n",
    "    \n",
    "rectangle(length_long, length_short)"
   ]
  },
  {
   "cell_type": "markdown",
   "id": "48cbc815",
   "metadata": {},
   "source": [
    "２つの値の平均値を求める。"
   ]
  },
  {
   "cell_type": "code",
   "execution_count": 7,
   "id": "03ed3a03",
   "metadata": {},
   "outputs": [
    {
     "name": "stdout",
     "output_type": "stream",
     "text": [
      "一つ目の数値を入力してください: 878\n",
      "二つ目の数値を入力してください: 421\n",
      "649.5\n"
     ]
    }
   ],
   "source": [
    "a = float(input('一つ目の数値を入力してください: '))\n",
    "b = float(input('二つ目の数値を入力してください: '))\n",
    "\n",
    "def average(a, b):\n",
    "    return (a + b) / 2\n",
    "print(average(a, b))"
   ]
  },
  {
   "cell_type": "markdown",
   "id": "326015aa",
   "metadata": {},
   "source": [
    "ドルを日本円に換算する。\n",
    "ただし、、1ドル = 121.4 円とする。"
   ]
  },
  {
   "cell_type": "code",
   "execution_count": 8,
   "id": "4bb1f71d",
   "metadata": {},
   "outputs": [
    {
     "name": "stdout",
     "output_type": "stream",
     "text": [
      "2428.0\n"
     ]
    }
   ],
   "source": [
    "def dollar_to_yen(d):\n",
    "    return d * 121.4\n",
    "print(dollar_to_yen(20))"
   ]
  },
  {
   "cell_type": "markdown",
   "id": "3c60d3d0",
   "metadata": {},
   "source": [
    "二次方程式　$　ax^2+bx+c=0 $ の解を返す。\n",
    "なお、大きい方の値を返す。"
   ]
  },
  {
   "cell_type": "code",
   "execution_count": 9,
   "id": "b6a97128",
   "metadata": {},
   "outputs": [
    {
     "name": "stdout",
     "output_type": "stream",
     "text": [
      "(-0.39999999999999997+1.0198039027185568j)\n"
     ]
    }
   ],
   "source": [
    "def quad_eq(a, b, c):\n",
    "    D = (b**2 - 4*a*c)**(1/2)\n",
    "    x_1 =(-b + D)/(2*a)\n",
    "    return x_1\n",
    "print(quad_eq(5, 4, 6))"
   ]
  },
  {
   "cell_type": "markdown",
   "id": "20a8cc2e",
   "metadata": {},
   "source": [
    "フルーツジュースを作る。"
   ]
  },
  {
   "cell_type": "code",
   "execution_count": 10,
   "id": "eb77d2eb",
   "metadata": {},
   "outputs": [
    {
     "name": "stdout",
     "output_type": "stream",
     "text": [
      "apple juice\n",
      "orange juice\n",
      "grape juice\n"
     ]
    }
   ],
   "source": [
    "fruits = ['apple', 'orange', 'grape']\n",
    "for s in fruits:\n",
    "    print(s + ' juice')"
   ]
  },
  {
   "cell_type": "markdown",
   "id": "f39a569f",
   "metadata": {},
   "source": [
    "リストの合計値を返す。"
   ]
  },
  {
   "cell_type": "code",
   "execution_count": 11,
   "id": "9fe3486f",
   "metadata": {
    "scrolled": true
   },
   "outputs": [
    {
     "name": "stdout",
     "output_type": "stream",
     "text": [
      "3785\n"
     ]
    }
   ],
   "source": [
    "def sigma(xs):\n",
    "    total = 0\n",
    "    for x in xs:\n",
    "        total += x\n",
    "    return total\n",
    "    \n",
    "print(sigma([200, 289, 574, 735, 1987]))"
   ]
  },
  {
   "cell_type": "markdown",
   "id": "a8a6f216",
   "metadata": {},
   "source": [
    "文字列を縦に並べて表示する。"
   ]
  },
  {
   "cell_type": "code",
   "execution_count": 12,
   "id": "3a129353",
   "metadata": {},
   "outputs": [
    {
     "name": "stdout",
     "output_type": "stream",
     "text": [
      "h\n",
      "e\n",
      "l\n",
      "l\n",
      "o\n"
     ]
    }
   ],
   "source": [
    "def vertical(word):\n",
    "    for w in word:\n",
    "        print(w)\n",
    "        \n",
    "vertical('hello')"
   ]
  },
  {
   "cell_type": "markdown",
   "id": "4a30fb00",
   "metadata": {},
   "source": [
    "全ての空白をハイフンに置き換える。"
   ]
  },
  {
   "cell_type": "code",
   "execution_count": 13,
   "id": "9eebee0c",
   "metadata": {},
   "outputs": [
    {
     "name": "stdout",
     "output_type": "stream",
     "text": [
      "I-am-a-human.\n"
     ]
    }
   ],
   "source": [
    "def hyphen(sentence):\n",
    "    replace = '' #答えを入れる変数を用意し、初期値を0にする\n",
    "    for s in sentence:\n",
    "        if s == ' ':\n",
    "            replace += '-'\n",
    "        else:\n",
    "            replace += s\n",
    "    return replace\n",
    "print(hyphen('I am a human.'))"
   ]
  },
  {
   "cell_type": "markdown",
   "id": "71c05ffb",
   "metadata": {},
   "source": [
    "九九の一覧"
   ]
  },
  {
   "cell_type": "code",
   "execution_count": 14,
   "id": "e687e775",
   "metadata": {},
   "outputs": [
    {
     "name": "stdout",
     "output_type": "stream",
     "text": [
      "1 x 1 = 1\n",
      "1 x 2 = 2\n",
      "1 x 3 = 3\n",
      "1 x 4 = 4\n",
      "1 x 5 = 5\n",
      "1 x 6 = 6\n",
      "1 x 7 = 7\n",
      "1 x 8 = 8\n",
      "1 x 9 = 9\n",
      "2 x 1 = 2\n",
      "2 x 2 = 4\n",
      "2 x 3 = 6\n",
      "2 x 4 = 8\n",
      "2 x 5 = 10\n",
      "2 x 6 = 12\n",
      "2 x 7 = 14\n",
      "2 x 8 = 16\n",
      "2 x 9 = 18\n",
      "3 x 1 = 3\n",
      "3 x 2 = 6\n",
      "3 x 3 = 9\n",
      "3 x 4 = 12\n",
      "3 x 5 = 15\n",
      "3 x 6 = 18\n",
      "3 x 7 = 21\n",
      "3 x 8 = 24\n",
      "3 x 9 = 27\n",
      "4 x 1 = 4\n",
      "4 x 2 = 8\n",
      "4 x 3 = 12\n",
      "4 x 4 = 16\n",
      "4 x 5 = 20\n",
      "4 x 6 = 24\n",
      "4 x 7 = 28\n",
      "4 x 8 = 32\n",
      "4 x 9 = 36\n",
      "5 x 1 = 5\n",
      "5 x 2 = 10\n",
      "5 x 3 = 15\n",
      "5 x 4 = 20\n",
      "5 x 5 = 25\n",
      "5 x 6 = 30\n",
      "5 x 7 = 35\n",
      "5 x 8 = 40\n",
      "5 x 9 = 45\n",
      "6 x 1 = 6\n",
      "6 x 2 = 12\n",
      "6 x 3 = 18\n",
      "6 x 4 = 24\n",
      "6 x 5 = 30\n",
      "6 x 6 = 36\n",
      "6 x 7 = 42\n",
      "6 x 8 = 48\n",
      "6 x 9 = 54\n",
      "7 x 1 = 7\n",
      "7 x 2 = 14\n",
      "7 x 3 = 21\n",
      "7 x 4 = 28\n",
      "7 x 5 = 35\n",
      "7 x 6 = 42\n",
      "7 x 7 = 49\n",
      "7 x 8 = 56\n",
      "7 x 9 = 63\n",
      "8 x 1 = 8\n",
      "8 x 2 = 16\n",
      "8 x 3 = 24\n",
      "8 x 4 = 32\n",
      "8 x 5 = 40\n",
      "8 x 6 = 48\n",
      "8 x 7 = 56\n",
      "8 x 8 = 64\n",
      "8 x 9 = 72\n",
      "9 x 1 = 9\n",
      "9 x 2 = 18\n",
      "9 x 3 = 27\n",
      "9 x 4 = 36\n",
      "9 x 5 = 45\n",
      "9 x 6 = 54\n",
      "9 x 7 = 63\n",
      "9 x 8 = 72\n",
      "9 x 9 = 81\n"
     ]
    }
   ],
   "source": [
    "for n in range(1, 10):\n",
    "    for m in range(1,10):\n",
    "        print(n, 'x', m, '=', n*m)"
   ]
  },
  {
   "cell_type": "markdown",
   "id": "b9f5ffaf",
   "metadata": {},
   "source": [
    "プラミッドを描く"
   ]
  },
  {
   "cell_type": "code",
   "execution_count": 15,
   "id": "902153b9",
   "metadata": {},
   "outputs": [
    {
     "name": "stdout",
     "output_type": "stream",
     "text": [
      "     **\n",
      "    ****\n",
      "   ******\n",
      "  ********\n",
      " **********\n",
      "************\n"
     ]
    }
   ],
   "source": [
    "def pyramid(n):\n",
    "    for i in range(0, n):\n",
    "        print(' '*(n-1-i) + '*'*((i+1)*2))\n",
    "        \n",
    "pyramid(6)"
   ]
  },
  {
   "cell_type": "markdown",
   "id": "4597c1d8",
   "metadata": {},
   "source": [
    "素数か否か判断する（素数の場合、Trueを返す）。"
   ]
  },
  {
   "cell_type": "code",
   "execution_count": 16,
   "id": "083d8bab",
   "metadata": {},
   "outputs": [
    {
     "name": "stdout",
     "output_type": "stream",
     "text": [
      "True\n"
     ]
    }
   ],
   "source": [
    "def is_prime(x):\n",
    "    for i in range(2, x):\n",
    "        if x % i == 0:\n",
    "            return False\n",
    "    return True\n",
    "\n",
    "print(is_prime(1097))"
   ]
  },
  {
   "cell_type": "markdown",
   "id": "5e21cbb3",
   "metadata": {},
   "source": [
    "重複する要素を探す。"
   ]
  },
  {
   "cell_type": "code",
   "execution_count": 17,
   "id": "d132da0c",
   "metadata": {},
   "outputs": [
    {
     "name": "stdout",
     "output_type": "stream",
     "text": [
      "[2, 3, 5]\n"
     ]
    }
   ],
   "source": [
    "def overlap(xs, ys):\n",
    "    result = []\n",
    "    for x in xs:\n",
    "        for y in ys:\n",
    "            if x == y:\n",
    "                result.append(x)\n",
    "                break\n",
    "    return result\n",
    "\n",
    "\n",
    "print(overlap([1, 2, 3, 4, 5], [2, 3, 5, 7, 11]))"
   ]
  },
  {
   "cell_type": "markdown",
   "id": "2f4ee350",
   "metadata": {},
   "source": [
    "1ヶ月分のメニューをランダムに決める。"
   ]
  },
  {
   "cell_type": "code",
   "execution_count": 18,
   "id": "6ac9aff4",
   "metadata": {},
   "outputs": [
    {
     "name": "stdout",
     "output_type": "stream",
     "text": [
      "10月 30 日のメニューは おにぎり です\n"
     ]
    }
   ],
   "source": [
    "#random モジュールを読み込む\n",
    "import random\n",
    "\n",
    "#メニュー一覧\n",
    "menu = ['ラーメン', 'エビチリ', 'お好み焼き', 'おにぎり']\n",
    "\n",
    "for m in range(1, 31):\n",
    "    item = random.choice(menu)\n",
    "print(\"10月\", m, \"日のメニューは\", item, \"です\")"
   ]
  },
  {
   "cell_type": "markdown",
   "id": "ae238c28",
   "metadata": {},
   "source": [
    "偏差値を求める。"
   ]
  },
  {
   "cell_type": "code",
   "execution_count": 19,
   "id": "3a7fb144",
   "metadata": {},
   "outputs": [
    {
     "name": "stdout",
     "output_type": "stream",
     "text": [
      "43.857531137025155\n"
     ]
    }
   ],
   "source": [
    "import statistics\n",
    "\n",
    "scores = [97, 83, 64, 29, 59, 28, 84, 72]\n",
    "\n",
    "ave = statistics.mean(scores)\n",
    "dev = statistics.pstdev(scores)\n",
    "\n",
    "def standard_score(x):\n",
    "    t = 50 + (10 * (x - ave))/dev\n",
    "    return t\n",
    "    \n",
    "print(standard_score(50))"
   ]
  }
 ],
 "metadata": {
  "kernelspec": {
   "display_name": "Python 3",
   "language": "python",
   "name": "python3"
  },
  "language_info": {
   "codemirror_mode": {
    "name": "ipython",
    "version": 3
   },
   "file_extension": ".py",
   "mimetype": "text/x-python",
   "name": "python",
   "nbconvert_exporter": "python",
   "pygments_lexer": "ipython3",
   "version": "3.8.8"
  }
 },
 "nbformat": 4,
 "nbformat_minor": 5
}
